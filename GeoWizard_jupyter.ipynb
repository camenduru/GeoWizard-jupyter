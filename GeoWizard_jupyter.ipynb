{
  "cells": [
    {
      "cell_type": "markdown",
      "metadata": {
        "id": "view-in-github"
      },
      "source": [
        "[![Open In Colab](https://colab.research.google.com/assets/colab-badge.svg)](https://colab.research.google.com/github/camenduru/GeoWizard-jupyter/blob/main/GeoWizard_jupyter.ipynb)"
      ]
    },
    {
      "cell_type": "code",
      "execution_count": null,
      "metadata": {
        "id": "VjYy0F2gZIPR"
      },
      "outputs": [],
      "source": [
        "%cd /content\n",
        "!GIT_LFS_SKIP_SMUDGE=1 git clone -b dev https://github.com/camenduru/geowizard-hf\n",
        "%cd /content/geowizard-hf\n",
        "\n",
        "!apt -y install -qq aria2\n",
        "!aria2c --console-log-level=error -c -x 16 -s 16 -k 1M https://huggingface.co/camenduru/geowizard/resolve/main/files/Womkazpsw5tDtMCN8L4NEV.jpg -d /content/geowizard-hf/files -o Womkazpsw5tDtMCN8L4NEV.jpg\n",
        "!aria2c --console-log-level=error -c -x 16 -s 16 -k 1M https://huggingface.co/camenduru/geowizard/resolve/main/image_encoder/pytorch_model.bin -d /content/geowizard-hf/image_encoder -o pytorch_model.bin\n",
        "!aria2c --console-log-level=error -c -x 16 -s 16 -k 1M https://huggingface.co/camenduru/geowizard/resolve/main/unet/diffusion_pytorch_model.safetensors -d /content/geowizard-hf/unet -o diffusion_pytorch_model.safetensors\n",
        "!aria2c --console-log-level=error -c -x 16 -s 16 -k 1M https://huggingface.co/camenduru/geowizard/resolve/main/vae/diffusion_pytorch_model.bin -d /content/geowizard-hf/vae -o diffusion_pytorch_model.bin\n",
        "!aria2c --console-log-level=error -c -x 16 -s 16 -k 1M https://huggingface.co/camenduru/geowizard/resolve/main/vae/diffusion_pytorch_model.safetensors -d /content/geowizard-hf/vae -o diffusion_pytorch_model.bin\n",
        "\n",
        "!pip install diffusers==0.25.0 xformers==0.0.25 gradio==4.11.0 trimesh==4.0.5 accelerate==0.28.0 GitPython==3.1.40\n",
        "!pip install gradio-imageslider==0.0.16 fire\n",
        "\n",
        "!python app.py"
      ]
    }
  ],
  "metadata": {
    "accelerator": "GPU",
    "colab": {
      "gpuType": "T4",
      "provenance": []
    },
    "kernelspec": {
      "display_name": "Python 3",
      "name": "python3"
    },
    "language_info": {
      "name": "python"
    }
  },
  "nbformat": 4,
  "nbformat_minor": 0
}
